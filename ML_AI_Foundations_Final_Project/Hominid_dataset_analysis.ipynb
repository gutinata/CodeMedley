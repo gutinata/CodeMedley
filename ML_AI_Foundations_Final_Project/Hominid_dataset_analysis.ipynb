{
 "cells": [
  {
   "cell_type": "markdown",
   "id": "3f964bf3",
   "metadata": {},
   "source": [
    "# Hominid dataset analysis"
   ]
  },
  {
   "cell_type": "code",
   "execution_count": 6,
   "id": "71aab124",
   "metadata": {},
   "outputs": [],
   "source": [
    "import numpy as np\n",
    "import pandas as pd\n",
    "import seaborn as sns\n",
    "import matplotlib.pyplot as plt\n",
    "from scipy.stats import pearsonr"
   ]
  },
  {
   "cell_type": "code",
   "execution_count": 17,
   "id": "5599ba18",
   "metadata": {},
   "outputs": [
    {
     "name": "stdout",
     "output_type": "stream",
     "text": [
      "                       Genus_&_Specie        Time Location            Zone  \\\n",
      "0          Australopithecus Anamensis   4.2- 3.9    Africa        oriental   \n",
      "1  hominino Sahelanthropus tchadensis           7   Africa         central   \n",
      "2          Australopithecus Afarensis  3.9 - 2.9    Africa        oriental   \n",
      "3  hominino Sahelanthropus tchadensis           7   Africa         central   \n",
      "4                Homo Heidelbergensis     500-250   Europa  central-europe   \n",
      "\n",
      "    Current_Country         Habitat  Cranial_Capacity  Height Incisor_Size  \\\n",
      "0             Kenya  forest-gallery            281.19  132.33          big   \n",
      "1  Republic of Chad           mixed             94.12   87.49        small   \n",
      "2             Kenya           mixed            311.48  120.44          big   \n",
      "3  Republic of Chad           mixed            196.00   88.40        small   \n",
      "4           Germany     cold forest           1232.46  167.60        small   \n",
      "\n",
      "  Jaw_Shape  ...            biped        Arms     Foots         Diet  \\\n",
      "0   U shape  ...              yes    climbing  climbing   dry fruits   \n",
      "1   conical  ...  low probability    climbing  climbing   dry fruits   \n",
      "2   U shape  ...              yes    climbing      walk   dry fruits   \n",
      "3   conical  ...  low probability    climbing  climbing   dry fruits   \n",
      "4    modern  ...           modern  manipulate      walk  carnivorous   \n",
      "\n",
      "  Sexual_Dimorphism          Hip Vertical_Front      Anatomy Migrated Skeleton  \n",
      "0              high         wide             no        mixed       no    light  \n",
      "1              high         wide             no          old       no    light  \n",
      "2              high         slim             no          old       no  refined  \n",
      "3              high         wide             no          old       no    light  \n",
      "4       medium-high  very modern         modern  very modern       no   robust  \n",
      "\n",
      "[5 rows x 28 columns]\n"
     ]
    }
   ],
   "source": [
    "#read data\n",
    "hominid = pd.read_csv(\"Homininos_DataSet (1).csv\")\n",
    "print(hominid.head())"
   ]
  },
  {
   "cell_type": "markdown",
   "id": "b9ea5df2",
   "metadata": {},
   "source": [
    "The column 'Time' is crucial for my analyses but the formatting is not consistent among all data points and cannot be interpreted as an ordered categorical variable. In the following lines I develop a loop in which I\n",
    "\n",
    "1.Go through each row\n",
    "2.Check if the line contains a '-'\n",
    "3.If the line contains a '-', split the line and keep only the first number\n",
    "4.Check if the number contains a 'ma'\n",
    "5.If the number contains a 'ma', keep only the first character\n",
    "6.If the number doesn't contain a 'ma', keep only the first chacter and add a '0.' before it\n",
    "\n",
    "The previous part of the loop ensures I only keep the oldest known appearance of the species, expressed as million years ago, and uses "
   ]
  },
  {
   "cell_type": "code",
   "execution_count": 30,
   "id": "63f94860",
   "metadata": {
    "scrolled": true
   },
   "outputs": [
    {
     "data": {
      "text/plain": [
       "0       4.2- 3.9 \n",
       "1               7\n",
       "2      3.9 - 2.9 \n",
       "3               7\n",
       "4         500-250\n",
       "          ...    \n",
       "715       1ma-800\n",
       "716           2.6\n",
       "717       1ma-800\n",
       "718    3.9 - 2.9 \n",
       "719      2.5-1.6 \n",
       "Name: Time, Length: 720, dtype: object"
      ]
     },
     "metadata": {},
     "output_type": "display_data"
    }
   ],
   "source": [
    "hominid.Time.describe()\n"
   ]
  }
 ],
 "metadata": {
  "celltoolbar": "Raw Cell Format",
  "kernelspec": {
   "display_name": "Python 3 (ipykernel)",
   "language": "python",
   "name": "python3"
  },
  "language_info": {
   "codemirror_mode": {
    "name": "ipython",
    "version": 3
   },
   "file_extension": ".py",
   "mimetype": "text/x-python",
   "name": "python",
   "nbconvert_exporter": "python",
   "pygments_lexer": "ipython3",
   "version": "3.9.5"
  }
 },
 "nbformat": 4,
 "nbformat_minor": 5
}
