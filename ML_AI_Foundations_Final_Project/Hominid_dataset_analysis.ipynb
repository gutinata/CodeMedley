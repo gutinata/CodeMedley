{
 "cells": [
  {
   "cell_type": "markdown",
   "id": "3f964bf3",
   "metadata": {},
   "source": [
    "# Hominid dataset analysis"
   ]
  },
  {
   "cell_type": "code",
   "execution_count": 2,
   "id": "71aab124",
   "metadata": {},
   "outputs": [],
   "source": [
    "import numpy as np\n",
    "import pandas as pd\n",
    "import seaborn as sns\n",
    "import matplotlib.pyplot as plt\n",
    "from scipy.stats import pearsonr"
   ]
  },
  {
   "cell_type": "code",
   "execution_count": 3,
   "id": "5599ba18",
   "metadata": {},
   "outputs": [
    {
     "name": "stdout",
     "output_type": "stream",
     "text": [
      "                       Genus_&_Specie        Time Location            Zone  \\\n",
      "0          Australopithecus Anamensis   4.2- 3.9    Africa        oriental   \n",
      "1  hominino Sahelanthropus tchadensis           7   Africa         central   \n",
      "2          Australopithecus Afarensis  3.9 - 2.9    Africa        oriental   \n",
      "3  hominino Sahelanthropus tchadensis           7   Africa         central   \n",
      "4                Homo Heidelbergensis     500-250   Europa  central-europe   \n",
      "\n",
      "    Current_Country         Habitat  Cranial_Capacity  Height Incisor_Size  \\\n",
      "0             Kenya  forest-gallery            281.19  132.33          big   \n",
      "1  Republic of Chad           mixed             94.12   87.49        small   \n",
      "2             Kenya           mixed            311.48  120.44          big   \n",
      "3  Republic of Chad           mixed            196.00   88.40        small   \n",
      "4           Germany     cold forest           1232.46  167.60        small   \n",
      "\n",
      "  Jaw_Shape  ...            biped        Arms     Foots         Diet  \\\n",
      "0   U shape  ...              yes    climbing  climbing   dry fruits   \n",
      "1   conical  ...  low probability    climbing  climbing   dry fruits   \n",
      "2   U shape  ...              yes    climbing      walk   dry fruits   \n",
      "3   conical  ...  low probability    climbing  climbing   dry fruits   \n",
      "4    modern  ...           modern  manipulate      walk  carnivorous   \n",
      "\n",
      "  Sexual_Dimorphism          Hip Vertical_Front      Anatomy Migrated Skeleton  \n",
      "0              high         wide             no        mixed       no    light  \n",
      "1              high         wide             no          old       no    light  \n",
      "2              high         slim             no          old       no  refined  \n",
      "3              high         wide             no          old       no    light  \n",
      "4       medium-high  very modern         modern  very modern       no   robust  \n",
      "\n",
      "[5 rows x 28 columns]\n"
     ]
    }
   ],
   "source": [
    "#read data\n",
    "hominid = pd.read_csv(\"Homininos_DataSet (1).csv\")\n",
    "print(hominid.head())"
   ]
  },
  {
   "cell_type": "code",
   "execution_count": 4,
   "id": "63f94860",
   "metadata": {
    "scrolled": true
   },
   "outputs": [
    {
     "data": {
      "text/plain": [
       "count           720\n",
       "unique           24\n",
       "top       4.2- 3.9 \n",
       "freq             30\n",
       "Name: Time, dtype: object"
      ]
     },
     "execution_count": 4,
     "metadata": {},
     "output_type": "execute_result"
    }
   ],
   "source": [
    "hominid.Time.describe()\n"
   ]
  },
  {
   "cell_type": "markdown",
   "id": "b9ea5df2",
   "metadata": {},
   "source": [
    "The column 'Time' is crucial for my analyses but the formatting is not consistent among all data points and cannot be interpreted as an ordered categorical variable. In the following lines I develop a loop in which I\n",
    "\n",
    "1.Go through each row\n",
    "\n",
    "2.Check if the line contains a '-'\n",
    "\n",
    "3.If the line contains a '-', split the line and keep only the first number\n",
    "\n",
    "4.Check if the number contains a 'ma'\n",
    "\n",
    "5.If the number contains a 'ma', keep only the first character\n",
    "\n",
    "6.If the number doesn't contain a 'ma', keep only the first chacter and add a '0.' before it\n",
    "\n",
    "The previous part of the loop ensures I only keep the oldest known appearance of the species, expressed as million years ago, and converts the ones expressed in thousand years ago to million years ago.\n"
   ]
  },
  {
   "cell_type": "code",
   "execution_count": 13,
   "id": "ddf9acaa",
   "metadata": {},
   "outputs": [
    {
     "name": "stdout",
     "output_type": "stream",
     "text": [
      "1\n",
      "['4.2', '7', '3.9 ', '7', '0.500', '2.3', '1.3', '0.300', '1.8', '1.9', '1.9', '2.5', '0.300', '2.8', '2.8', '2.5', '0.100', '2.5', '2.5', '2.5', '1', '1.3', '0.230', '4', '0.230', '0.100', '1.8', '3.5', '4', '4.2', '2.3', '1.8', '1.9', '1.9', '1.8', '2.3', '0.100', '3.5', '1.9', '1.9', '1.9', '2.5', '3.5', '4.2', '2.6', '0.230', '0.500', '6', '3.5', '4', '7', '0.500', '0.600', '3.5', '7', '6', '7', '0.230', '4.2', '6', '3.5', '0.300', '6', '4.2', '2.6', '1.8', '0.230', '2.3', '1.9', '2.3', '4.2', '2.6', '0.100', '1.8', '3.9 ', '0.100', '0.100', '0.300', '3.9 ', '2.5', '4.2', '1.9', '2.3', '4', '0.300', '2.5', '4.2', '6', '0.600', '0.300', '3.5', '2.5', '2.5', '1.8', '6', '2.3', '0.300', '2.5', '3.9 ', '0.500', '1.3', '3.5', '1.8', '0.600', '0.300', '3.5', '0.500', '0.100', '1.9', '2.3', '2.8', '3.5', '1.3', '0.300', '6', '7', '6', '2.8', '2.6', '0.300', '7', '1.8', '2.5', '0.500', '0.300', '0.300', '1.8', '2.5', '0.100', '0.300', '3.5', '0.300', '6', '0.100', '1.3', '1.3', '0.300', '0.300', '0.300', '3.5', '1.9', '2.6', '0.300', '3.9 ', '1.9', '0.300', '3.9 ', '6', '1.3', '1.9', '1.8', '4', '1.8', '0.500', '0.600', '0.230', '3.5', '1.3', '7', '7', '2.8', '1.9', '2.3', '1', '0.600', '0.300', '0.300', '3.5', '2.5', '0.600', '1.3', '2.5', '0.500', '3.5', '3.5', '1.9', '0.300', '3.5', '1.8', '0.230', '3.9 ', '2.3', '2.5', '0.300', '0.300', '2.5', '4', '2.3', '1.3', '2.8', '4.2', '3.5', '0.500', '1', '1.9', '1.8', '0.600', '1.9', '1', '2.8', '3.5', '2.6', '2.6', '1.9', '1.8', '2.6', '0.500', '3.5', '1.3', '1.8', '4.2', '3.5', '3.5', '0.230', '1.9', '1', '7', '1', '4.2', '1.3', '4', '2.5', '4', '6', '2.5', '7', '2.5', '2.8', '0.300', '0.600', '0.100', '7', '1.9', '1.9', '0.500', '3.5', '1.8', '2.5', '2.6', '1.8', '1', '3.5', '7', '1.3', '2.8', '4', '2.8', '3.5', '4.2', '0.100', '1.9', '0.300', '3.5', '4', '0.300', '1.8', '1.9', '4', '1', '4', '2.3', '3.5', '0.500', '1', '0.500', '2.5', '0.600', '0.300', '0.100', '6', '1.8', '2.6', '4.2', '0.100', '0.500', '2.8', '1.8', '0.100', '4.2', '1.8', '0.600', '4.2', '4.2', '2.6', '2.5', '1.9', '6', '2.6', '1.9', '1.9', '1.8', '1.9', '7', '6', '0.300', '2.5', '2.5', '1.8', '2.3', '3.9 ', '1.3', '1.3', '1', '7', '1', '0.230', '0.230', '0.100', '1.8', '4.2', '1', '2.6', '1.9', '6', '3.5', '0.300', '2.5', '0.230', '4', '3.9 ', '1.3', '1.8', '2.8', '6', '1.9', '6', '3.9 ', '2.6', '1.9', '0.600', '0.300', '3.5', '2.5', '1.9', '3.9 ', '0.600', '1', '2.3', '1.9', '1.9', '3.5', '1.8', '2.5', '4', '6', '0.300', '2.6', '3.9 ', '1.8', '3.5', '1.8', '3.5', '2.5', '1.8', '0.500', '4.2', '2.6', '3.5', '1.8', '2.3', '0.300', '0.300', '7', '0.100', '0.500', '7', '7', '0.600', '4', '2.8', '3.9 ', '2.6', '4', '2.8', '1', '6', '4', '1.9', '3.5', '0.500', '2.5', '7', '1.9', '2.3', '2.8', '3.5', '4.2', '1.9', '2.5', '1.9', '7', '1.8', '4.2', '0.230', '0.600', '0.500', '3.9 ', '0.100', '4', '0.600', '0.300', '6', '0.100', '1.3', '3.5', '1.9', '0.500', '2.5', '2.5', '6', '2.5', '1.8', '2.6', '2.5', '6', '3.9 ', '0.500', '4', '7', '1.8', '0.600', '3.5', '1.3', '2.3', '3.5', '1', '3.5', '4', '1.3', '0.300', '3.9 ', '0.600', '4.2', '3.5', '0.230', '0.230', '0.230', '2.3', '1', '1.8', '0.230', '1.8', '1.8', '7', '2.3', '0.500', '0.100', '3.5', '2.8', '1.3', '0.500', '3.9 ', '1.9', '0.100', '1.8', '4', '6', '0.600', '0.600', '0.300', '1.3', '2.3', '0.500', '0.100', '2.5', '0.300', '3.9 ', '2.5', '2.5', '1.3', '2.5', '1.9', '2.5', '3.5', '2.5', '0.230', '1.9', '0.600', '1.9', '2.3', '1.9', '0.500', '0.300', '2.3', '1.9', '6', '1.9', '1', '0.300', '6', '3.5', '7', '0.600', '3.5', '0.300', '1.3', '3.5', '6', '3.9 ', '3.5', '1.8', '0.500', '2.8', '0.230', '4.2', '0.600', '0.230', '1.9', '2.8', '1.9', '1.9', '2.6', '0.230', '0.100', '1.8', '0.600', '0.300', '0.100', '4.2', '0.300', '0.230', '0.600', '1.9', '0.230', '4', '2.5', '7', '1.8', '1.3', '1.9', '3.9 ', '4', '0.300', '1', '0.230', '2.3', '2.5', '2.3', '1.8', '0.100', '2.5', '3.5', '2.3', '4.2', '2.5', '0.300', '2.8', '2.5', '2.6', '3.9 ', '2.5', '3.9 ', '4', '2.5', '1.8', '1.8', '3.9 ', '1.8', '1', '2.3', '2.5', '0.230', '1.3', '0.300', '0.600', '1.9', '6', '7', '2.6', '1.3', '2.6', '3.9 ', '2.8', '4.2', '3.5', '3.5', '2.5', '1.8', '2.3', '4', '1.3', '1.8', '2.8', '4', '0.100', '4.2', '3.5', '0.500', '0.300', '1.8', '3.5', '1.8', '1.8', '0.100', '0.600', '0.300', '0.500', '4', '1.8', '2.6', '3.9 ', '1.9', '3.5', '0.300', '0.300', '1.8', '7', '3.9 ', '7', '1.9', '1', '1.8', '0.300', '3.5', '1.8', '0.600', '1', '4', '2.6', '2.6', '2.8', '2.6', '1.8', '0.300', '0.300', '1.9', '0.500', '2.3', '2.5', '1.9', '0.300', '7', '2.6', '1.3', '0.100', '0.230', '2.5', '1.8', '1.9', '3.5', '0.100', '1.9', '0.600', '3.5', '1', '1', '2.5', '0.230', '3.5', '0.600', '0.500', '2.8', '2.3', '1', '2.8', '6', '0.300', '2.6', '0.230', '0.100', '2.8', '4', '3.5', '3.9 ', '2.5', '2.5', '0.500', '0.600', '7', '2.3', '2.6', '2.8', '1.3', '4.2', '2.8', '0.300', '2.5', '0.230', '2.8', '0.100', '4.2', '0.230', '2.8', '7', '3.5', '1.9', '1', '3.9 ', '0.230', '3.5', '4.2', '1.8', '3.5', '1.8', '1.9', '1.3', '0.300', '1.8', '2.5', '4', '6', '0.300', '1.9', '0.300', '2.8', '1.8', '0.300', '1', '6', '2.5', '3.9 ', '1', '1', '2.5', '4.2', '1', '2.6', '1', '3.9 ', '2.5']\n"
     ]
    }
   ],
   "source": [
    "#Converting Time into Oldest known record (mya)\n",
    "\n",
    "h_time = hominid['Time']\n",
    "mya_time = []\n",
    "\n",
    "for item in h_time:\n",
    "    if '-' in item:\n",
    "        x = item.split('-')\n",
    "        if 'ma' in x[0]:\n",
    "            mya_time.append(x[0][0])\n",
    "        elif '.' in x[0]:\n",
    "            mya_time.append(x[0])\n",
    "        else:\n",
    "            mya_time.append('0.' + x[0])\n",
    "    else:\n",
    "        mya_time.append(item)\n",
    "        \n",
    "print(mya_time)"
   ]
  },
  {
   "cell_type": "code",
   "execution_count": null,
   "id": "1430fbb6",
   "metadata": {},
   "outputs": [],
   "source": []
  },
  {
   "cell_type": "code",
   "execution_count": null,
   "id": "9f0b75a8",
   "metadata": {},
   "outputs": [],
   "source": []
  }
 ],
 "metadata": {
  "celltoolbar": "Raw Cell Format",
  "kernelspec": {
   "display_name": "Python 3 (ipykernel)",
   "language": "python",
   "name": "python3"
  },
  "language_info": {
   "codemirror_mode": {
    "name": "ipython",
    "version": 3
   },
   "file_extension": ".py",
   "mimetype": "text/x-python",
   "name": "python",
   "nbconvert_exporter": "python",
   "pygments_lexer": "ipython3",
   "version": "3.9.5"
  }
 },
 "nbformat": 4,
 "nbformat_minor": 5
}
